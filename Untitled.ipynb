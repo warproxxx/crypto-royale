{
 "cells": [
  {
   "cell_type": "code",
   "execution_count": 1,
   "id": "110e3b51",
   "metadata": {},
   "outputs": [],
   "source": [
    "from seleniumwire import webdriver\n",
    "from webdriver_manager.chrome import ChromeDriverManager\n",
    "from selenium.webdriver.common.keys import Keys\n",
    "import numpy as np\n",
    "import cv2\n",
    "from matplotlib import pyplot as plt\n",
    "import time\n",
    "from selenium.webdriver.common.action_chains import ActionChains\n",
    "from selenium.webdriver.support import expected_conditions as EC\n",
    "from selenium.webdriver.support.ui import WebDriverWait\n",
    "from selenium.webdriver.common.by import By"
   ]
  },
  {
   "cell_type": "code",
   "execution_count": 2,
   "id": "6106900f",
   "metadata": {},
   "outputs": [],
   "source": [
    "\n",
    "\n",
    "def get_top_text():\n",
    "    return driver.find_element_by_tag_name('nav').text\n",
    "\n",
    "def get_bottom_text():\n",
    "    try:\n",
    "        return driver.find_elements_by_id('panel')[-1].text\n",
    "    except:\n",
    "        return driver.find_elements_by_id('root')[-1].text\n",
    "        \n",
    "    return bottom\n",
    "\n",
    "def get_left_text():\n",
    "    return driver.find_element_by_id('left-col').text\n",
    "\n",
    "def spin():\n",
    "    left_text = get_left_text()\n",
    "    \n",
    "    if 'Spin your boxes?' in get_left_text():\n",
    "        driver.get('https://cryptoroyale.one/wheel.html')\n",
    "        time.sleep(.5)\n",
    "        driver.find_element_by_xpath(\"//button[contains(.,'Feed')]\").click()\n",
    "        driver.find_element_by_xpath(\"//button[contains(.,'Spin')]\").click()\n",
    "        time.sleep(2)\n",
    "        driver.get('https://cryptoroyale.one/ranked')\n",
    "        \n",
    "def move_mouse(target_x, target_y):\n",
    "    game_board_element = driver.find_element_by_tag_name('canvas')\n",
    "    action_chains = ActionChains(driver)\n",
    "    action_chains.move_to_element_with_offset(game_board_element, target_x, target_y)\n",
    "    action_chains.click()\n",
    "    action_chains.perform()"
   ]
  },
  {
   "cell_type": "code",
   "execution_count": 3,
   "id": "fe20a053",
   "metadata": {},
   "outputs": [
    {
     "name": "stderr",
     "output_type": "stream",
     "text": [
      "\n",
      "\n",
      "====== WebDriver manager ======\n",
      "Current google-chrome version is 97.0.4692\n",
      "Get LATEST chromedriver version for 97.0.4692 google-chrome\n",
      "Driver [/Users/warproxxx/.wdm/drivers/chromedriver/mac64/97.0.4692.71/chromedriver] found in cache\n"
     ]
    }
   ],
   "source": [
    "driver = webdriver.Chrome(ChromeDriverManager().install())"
   ]
  },
  {
   "cell_type": "code",
   "execution_count": 4,
   "id": "cee59e8e",
   "metadata": {},
   "outputs": [],
   "source": [
    "driver.get('https://cryptoroyale.one/ranked')\n",
    "\n",
    "WebDriverWait(driver, 20).until(EC.presence_of_element_located((By.PARTIAL_LINK_TEXT, \"Discord\"))).click()\n",
    "driver.switch_to.window(driver.window_handles[1])\n",
    "WebDriverWait(driver, 20).until(EC.presence_of_element_located((By.NAME, \"email\")))\n",
    "elem = driver.find_element_by_name('email')\n",
    "elem.send_keys('warproxxx13@gmail.com')\n",
    "driver.find_element_by_name('password').send_keys('m@$pU52A%J3u7C')\n",
    "driver.find_element_by_name('password').send_keys(Keys.ENTER)\n",
    "\n",
    "while True:\n",
    "    try:\n",
    "        driver.find_element_by_xpath('//button[2]/div').click()\n",
    "        break\n",
    "    except:\n",
    "        pass\n",
    "    \n",
    "time.sleep(2)\n",
    "\n",
    "if 'linked' not in driver.find_element_by_tag_name('body').text:\n",
    "    print('redo')\n",
    "\n",
    "driver.close()\n",
    "driver.switch_to.window(driver.window_handles[0])\n",
    "driver.get('https://cryptoroyale.one/ranked')"
   ]
  },
  {
   "cell_type": "code",
   "execution_count": 19,
   "id": "6f57b608",
   "metadata": {},
   "outputs": [],
   "source": [
    "#Pink = R, Blue = P, Yellow = S\n",
    "RULES = {'P': 'R', 'R': 'S', 'S': 'P'}"
   ]
  },
  {
   "cell_type": "code",
   "execution_count": 10,
   "id": "eac76213",
   "metadata": {},
   "outputs": [
    {
     "name": "stdout",
     "output_type": "stream",
     "text": [
      "HP Found\n",
      "In progress found\n",
      "Hello  6\n"
     ]
    }
   ],
   "source": [
    "while True:\n",
    "    try:\n",
    "        driver.find_element_by_xpath(\"//button[contains(.,'Play')]\").click()\n",
    "        break\n",
    "    except:\n",
    "        time.sleep(.1)\n",
    "\n",
    "while 'HP' not in get_bottom_text():\n",
    "    time.sleep(.1)\n",
    "\n",
    "print(\"HP Found\")\n",
    "    \n",
    "while 'in progress' not in get_top_text():\n",
    "    time.sleep(.5)\n",
    "    \n",
    "print(\"In progress found\")\n",
    "\n",
    "players, player_self = get_players()\n",
    "print(\"Hello \", player_self['ID'])"
   ]
  },
  {
   "cell_type": "code",
   "execution_count": 30,
   "id": "ffe54848",
   "metadata": {},
   "outputs": [],
   "source": [
    "def get_players():\n",
    "    user_state = driver.execute_script(\"return window.user_state\")\n",
    "    player_id = user_state['cloud']['pid']\n",
    "    game_state = driver.execute_script(\"return window.game_state\")\n",
    "    players = parse_players(game_state)\n",
    "    \n",
    "    try:\n",
    "        player_self = [p for p in players if str(p[\"ID\"]) == str(player_id)][0]\n",
    "    except:\n",
    "        player_self = []\n",
    "        \n",
    "    return players, player_self\n",
    "\n",
    "def parse_players(player):\n",
    "    \n",
    "    game_state = driver.execute_script(\"return window.game_state\")\n",
    "    \n",
    "    def parse_player(player,pid):\n",
    "        try:\n",
    "            return {\n",
    "                \"ID\": pid,\n",
    "                \"HP\": player[\"HP\"],\n",
    "                \"alive\": player[\"HP\"] > 3,\n",
    "                \"class\": player[\"class\"],\n",
    "                \"place\": player[\"place\"],\n",
    "                \"position_x\": player.get(\"pos\", {}).get(\"x\", 0),\n",
    "                \"position_y\": player.get(\"pos\", {}).get(\"y\", 0),\n",
    "                \"to_x\": player.get(\"to\", {}).get(\"x\", 0),\n",
    "                \"to_y\": player.get(\"to\", {}).get(\"y\", 0),\n",
    "                \"inertia_x\": player.get(\"inertia_x\", {}).get(\"x\", 0),\n",
    "                \"inertia_y\": player.get(\"inertia_y\", {}).get(\"y\", 0),\n",
    "                \"error\": False\n",
    "            }\n",
    "        except:\n",
    "            return {\n",
    "                \"ID\": pid,\n",
    "                \"error\": True\n",
    "            }\n",
    "\n",
    "    return [parse_player(game_state[\"players\"][pid],pid) for pid in game_state[\"players\"]]\n",
    "\n",
    "class Players:\n",
    "    def __init__(self):\n",
    "        self.update_players()\n",
    "    \n",
    "    def update_players(self):\n",
    "        self.players, self.player_self = get_players()\n",
    "        \n",
    "    \n",
    "    def get_player_by_id(self, t):\n",
    "        self.update_players()        \n",
    "        return self.players[t]"
   ]
  },
  {
   "cell_type": "code",
   "execution_count": 28,
   "id": "a682af9c",
   "metadata": {},
   "outputs": [],
   "source": [
    "players = Players()\n",
    "\n",
    "while players.player_self['HP'] > 0:\n",
    "    \n",
    "    for i in range(len(players.players)):\n",
    "        while True:\n",
    "            curr = players.get_player_by_id(i)\n",
    "            \n",
    "            if curr['class'] == RULES[player_self['class']] and curr['HP'] > 0:\n",
    "                move_mouse(float(curr['to_x']),float(curr['to_y']))\n",
    "                time.sleep(.2)\n",
    "            else:\n",
    "                break"
   ]
  }
 ],
 "metadata": {
  "kernelspec": {
   "display_name": "Python 3 (ipykernel)",
   "language": "python",
   "name": "python3"
  },
  "language_info": {
   "codemirror_mode": {
    "name": "ipython",
    "version": 3
   },
   "file_extension": ".py",
   "mimetype": "text/x-python",
   "name": "python",
   "nbconvert_exporter": "python",
   "pygments_lexer": "ipython3",
   "version": "3.9.9"
  }
 },
 "nbformat": 4,
 "nbformat_minor": 5
}
