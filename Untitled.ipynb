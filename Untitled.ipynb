{
 "cells": [
  {
   "cell_type": "code",
   "execution_count": 1,
   "id": "110e3b51",
   "metadata": {},
   "outputs": [],
   "source": [
    "from seleniumwire import webdriver\n",
    "from webdriver_manager.chrome import ChromeDriverManager\n",
    "from selenium.webdriver.common.keys import Keys\n",
    "import numpy as np\n",
    "import cv2\n",
    "from matplotlib import pyplot as plt\n",
    "import time\n",
    "from selenium.webdriver.common.action_chains import ActionChains\n",
    "from selenium.webdriver.support import expected_conditions as EC\n",
    "from selenium.webdriver.support.ui import WebDriverWait\n",
    "from selenium.webdriver.common.by import By\n",
    "from selenium.webdriver.chrome.options import Options\n",
    "\n",
    "import signal\n",
    "from contextlib import contextmanager\n",
    "import monkey\n",
    "import os\n",
    "from twocaptcha import TwoCaptcha\n",
    "import random \n",
    "import pandas as pd\n",
    "from bs4 import BeautifulSoup\n",
    "class TimeoutException(Exception): pass\n",
    "\n",
    "@contextmanager\n",
    "def time_limit(seconds):\n",
    "    def signal_handler(signum, frame):\n",
    "        raise TimeoutException(\"Timed out!\")\n",
    "    signal.signal(signal.SIGALRM, signal_handler)\n",
    "    signal.alarm(seconds)\n",
    "    try:\n",
    "        yield\n",
    "    finally:\n",
    "        signal.alarm(0)"
   ]
  },
  {
   "cell_type": "code",
   "execution_count": 2,
   "id": "3188c8d2",
   "metadata": {},
   "outputs": [
    {
     "name": "stderr",
     "output_type": "stream",
     "text": [
      "\n",
      "\n",
      "====== WebDriver manager ======\n",
      "Current google-chrome version is 97.0.4692\n",
      "Get LATEST chromedriver version for 97.0.4692 google-chrome\n",
      "Driver [/Users/warproxxx/.wdm/drivers/chromedriver/mac64/97.0.4692.71/chromedriver] found in cache\n"
     ]
    }
   ],
   "source": [
    "row = {}\n",
    "row['username'] = 'warproxxx13@gmail.com'\n",
    "row['password'] = 'm@$pU52A%J3u7C'\n",
    "row['withdraw'] = '0xDF2f2cda0110fB8424EAc1239AfA00Ab9976c9d9'\n",
    "\n",
    "profile_dir = 'profiles/' + row['username'].split('@')[0]\n",
    "\n",
    "if not os.path.isdir(profile_dir + \"/Default\"):\n",
    "    os.makedirs(profile_dir + \"/Default\")\n",
    "\n",
    "options = webdriver.ChromeOptions()\n",
    "options.add_argument(\"disable-site-isolation-trials\")\n",
    "options.add_argument(\"disable-web-security\")\n",
    "options.add_argument(\"user-data-dir=\" + profile_dir)\n",
    "\n",
    "solver = TwoCaptcha('85a9bd82da66dba138da2596e644cacd')\n",
    "\n",
    "driver = webdriver.Chrome(ChromeDriverManager().install(), chrome_options=options)"
   ]
  },
  {
   "cell_type": "code",
   "execution_count": 3,
   "id": "6513aefc",
   "metadata": {},
   "outputs": [],
   "source": [
    "def get_top_text():\n",
    "    return driver.find_element_by_tag_name('nav').text\n",
    "\n",
    "def get_bottom_text():\n",
    "    try:\n",
    "        return driver.find_elements_by_id('panel')[-1].text\n",
    "    except:\n",
    "        try:\n",
    "            return driver.find_elements_by_id('root')[-1].text\n",
    "        except:\n",
    "            \"\"\n",
    "            \n",
    "    return bottom\n",
    "\n",
    "def get_left_text():\n",
    "    return driver.find_element_by_id('left-col').text\n",
    "\n",
    "def claim():\n",
    "    while True:\n",
    "        try:\n",
    "            driver.find_element_by_css_selector('.cardList:nth-child(1)').click()\n",
    "        except:\n",
    "            break\n",
    "            \n",
    "def spin():\n",
    "    left_text = get_left_text()\n",
    "    \n",
    "    if 'Spin your boxes?' in get_left_text():\n",
    "        driver.get('https://cryptoroyale.one/wheel.html')\n",
    "        time.sleep(.5)\n",
    "        WebDriverWait(driver, 20).until(EC.presence_of_element_located((By.XPATH, \"//button[contains(.,'Feed')]\"))).click()\n",
    "        \n",
    "        try:\n",
    "            target = int(driver.find_element_by_tag_name('li').text.split('\\n')[-1].split(' ')[-1])\n",
    "        except:\n",
    "            target = 0\n",
    "            \n",
    "    \n",
    "        if target >= 100:\n",
    "            WebDriverWait(driver, 20).until(EC.presence_of_element_located((By.XPATH, \"//button[contains(.,'Spin')]\"))).click()\n",
    "            time.sleep(4)\n",
    "        \n",
    "        driver.get('https://cryptoroyale.one/ranked')\n",
    "        \n",
    "def move_mouse(target_x, target_y, click=False):\n",
    "    try:\n",
    "        game_board_element = driver.find_element_by_tag_name('canvas')\n",
    "        action_chains = ActionChains(driver)\n",
    "        action_chains.move_to_element_with_offset(game_board_element, target_x, target_y)\n",
    "        \n",
    "        if click == True:\n",
    "            action_chains.click()\n",
    "            \n",
    "        action_chains.perform()\n",
    "    except:\n",
    "        pass"
   ]
  },
  {
   "cell_type": "code",
   "execution_count": 4,
   "id": "c1af0913",
   "metadata": {},
   "outputs": [],
   "source": [
    "def perform_login(row):\n",
    "    while True:\n",
    "        try:\n",
    "            driver.get('https://cryptoroyale.one/ranked')\n",
    "\n",
    "            try:\n",
    "                WebDriverWait(driver, 20).until(EC.presence_of_element_located((By.PARTIAL_LINK_TEXT, \"Discord\"))).click()\n",
    "            except:\n",
    "                try:\n",
    "                    WebDriverWait(driver, 20).until(EC.presence_of_element_located((By.XPATH, \"//button[contains(.,'Play')]\")))\n",
    "                    return\n",
    "                except:\n",
    "                    perform_login()\n",
    "            \n",
    "            driver.switch_to.window(driver.window_handles[1])\n",
    "            WebDriverWait(driver, 20).until(EC.presence_of_element_located((By.NAME, \"email\")))\n",
    "            elem = driver.find_element_by_name('email')\n",
    "            elem.send_keys(row['username'])\n",
    "            driver.find_element_by_name('password').send_keys(row['password'])\n",
    "            driver.find_element_by_name('password').send_keys(Keys.ENTER)\n",
    "\n",
    "            while True:\n",
    "                try:\n",
    "                    driver.find_element_by_xpath('//button[2]/div').click()\n",
    "                    break\n",
    "                except:\n",
    "                    pass\n",
    "\n",
    "            time.sleep(2)\n",
    "\n",
    "            if 'linked' not in driver.find_element_by_tag_name('body').text:\n",
    "                perform_login()\n",
    "\n",
    "            driver.close()\n",
    "            driver.switch_to.window(driver.window_handles[0])\n",
    "            driver.get('https://cryptoroyale.one/ranked')\n",
    "            break\n",
    "        except:\n",
    "            pass"
   ]
  },
  {
   "cell_type": "code",
   "execution_count": 5,
   "id": "3540e65a",
   "metadata": {},
   "outputs": [],
   "source": [
    "perform_login(row)"
   ]
  },
  {
   "cell_type": "code",
   "execution_count": 6,
   "id": "2296f6ba",
   "metadata": {},
   "outputs": [],
   "source": [
    "def get_xy(row):\n",
    "    ret = {}\n",
    "    try:\n",
    "        ret['x'] = row['x']\n",
    "        ret['y'] = row['y']\n",
    "    except:\n",
    "        ret['x'] = 800\n",
    "        ret['y'] = 800\n",
    "    return pd.Series(ret)\n",
    "\n",
    "def get_players():\n",
    "    RULES = {'P': 'R', 'R': 'S', 'S': 'P'}\n",
    "    user_state = driver.execute_script(\"return window.user_state\")\n",
    "    player_id = user_state['cloud']['pid']\n",
    "    game_state = driver.execute_script(\"return window.game_state\")\n",
    "    state_df = pd.DataFrame(game_state['players'].values())\n",
    "    state_df['ID'] = game_state['players'].keys()\n",
    "    state_df = state_df[state_df['HP'] > 5]\n",
    "    \n",
    "    state_df['ID'] = state_df['ID'].astype(int)\n",
    "    player = pd.Series()\n",
    "    \n",
    "    try:\n",
    "        player = state_df[state_df['ID'] == int(player_id)].iloc[0]\n",
    "        state_df = state_df[state_df['ID'] != int(player_id)].reset_index(drop=True)\n",
    "        state_df['killable'] = (state_df['class'] == RULES[player['class']]) | ((state_df['class'] ==player['class']) & (state_df['HP'] < player['HP']))\n",
    "    except:\n",
    "        state_df['killable'] = False\n",
    "    \n",
    "    state_df[['to_x', 'to_y']] = state_df['to'].apply(get_xy)\n",
    "    state_df[['pos_x', 'pos_y']] = state_df['pos'].apply(get_xy)\n",
    "\n",
    "\n",
    "    loot_df = pd.DataFrame()\n",
    "\n",
    "    for idx, loot in game_state['loot'].items():\n",
    "        row = {}\n",
    "        row['name'] = idx\n",
    "        row['x'] = loot['pos']['x']\n",
    "        row['y'] = loot['pos']['y']\n",
    "        row['t'] = loot['t']\n",
    "        loot_df = loot_df.append(row, ignore_index=True)\n",
    "    \n",
    "    if len(player) > 0:\n",
    "        try:\n",
    "            loot_df['distance'] = ((loot_df['x'] - player['pos']['x']) ** 2 + (loot_df['y'] - player['pos']['y']) ** 2) ** (1/2)\n",
    "            loot_df = loot_df.sort_values('distance').reset_index(drop=True)\n",
    "        except:\n",
    "            pass\n",
    "        \n",
    "        try:  \n",
    "            state_df['distance'] = ((state_df['to_x'] - player['pos']['x']) ** 2 + (state_df['to_y'] - player['pos']['y']) ** 2) ** (1/2)\n",
    "            state_df = state_df.sort_values('distance').reset_index(drop=True)\n",
    "        except:\n",
    "            pass\n",
    "\n",
    "    \n",
    "    return state_df, loot_df, player"
   ]
  },
  {
   "cell_type": "code",
   "execution_count": 51,
   "id": "ac04f782",
   "metadata": {},
   "outputs": [],
   "source": [
    "def solve_recaptcha(driver):\n",
    "    \n",
    "    if driver.execute_script(\"___grecaptcha_cfg.clients[0]\") is not None:\n",
    "        soup = BeautifulSoup(driver.page_source)\n",
    "\n",
    "        try:\n",
    "            url = soup.find('iframe')['src']\n",
    "\n",
    "            if 'google.com' in url:\n",
    "                print(\"Captcha Found\")\n",
    "                from urllib.parse import urlparse, parse_qs\n",
    "                o = urlparse(url)\n",
    "                query = parse_qs(o.query)\n",
    "                site_key = query['k'][0]\n",
    "                result = solver.recaptcha(sitekey=site_key, url=driver.current_url)\n",
    "\n",
    "                query = \"\"\"document.querySelector('#g-recaptcha-response').textContent='\"\"\" + result['code'] + \"\"\"'\"\"\"\n",
    "                driver.execute_script(query)\n",
    "\n",
    "                query2 = \"\"\"___grecaptcha_cfg.clients[0].H.H.callback('\"\"\" + result['code'] + \"\"\"')\"\"\"\n",
    "                driver.execute_script(query2)\n",
    "                driver.get('https://cryptoroyale.one/ranked')\n",
    "                time.sleep(3)\n",
    "        except:\n",
    "            pass\n",
    "    \n",
    "def play_again():    \n",
    "    while True:\n",
    "        try:\n",
    "            driver.find_element_by_xpath(\"//button[contains(.,'Play')]\").click()\n",
    "            time.sleep(.5)\n",
    "            \n",
    "            try:\n",
    "                driver.find_element_by_xpath(\"//button[contains(.,'Play')]\").click()\n",
    "            except:\n",
    "                pass\n",
    "            \n",
    "            break\n",
    "        except:\n",
    "            time.sleep(.1)\n",
    "\n",
    "    while 'HP' not in get_bottom_text():\n",
    "        try:\n",
    "            driver.find_element_by_xpath(\"//button[contains(.,'Play')]\").click()\n",
    "        except:\n",
    "            pass\n",
    "        time.sleep(.1)\n",
    "\n",
    "    print(\"HP Found\")\n",
    "    count = 0\n",
    "\n",
    "    while 'in progress' not in get_top_text():\n",
    "        time.sleep(.5)\n",
    "        count = count + 1\n",
    "\n",
    "        if count > 20:\n",
    "            try:\n",
    "                driver.find_element_by_xpath(\"//button[contains(.,'Leave')]\").click()\n",
    "                play_again()\n",
    "            except:\n",
    "                pass\n",
    "\n",
    "    chase = 0\n",
    "    print(\"Starting game\")\n",
    "        \n",
    "    time.sleep(.1)\n",
    "    \n",
    "    while True:\n",
    "        state_df, loot_df, player = get_players()\n",
    "        \n",
    "        click = False\n",
    "        \n",
    "        if 'HP' in player:\n",
    "            if player['HP'] > 100:\n",
    "                click = True\n",
    "        else:\n",
    "            break\n",
    "            \n",
    "        \n",
    "        killable = state_df[state_df['killable'] == True]\n",
    "        \n",
    "        if len(killable) > 0:\n",
    "            row = killable.iloc[0]['to']\n",
    "        else:            \n",
    "            row = loot_df.iloc[0]\n",
    "        \n",
    "        if row is not None:\n",
    "            move_mouse(float(row['x']),float(row['y']), click)\n",
    "            \n",
    "        chase = chase + 1\n",
    "        \n",
    "    time.sleep(1)\n",
    "    claim()\n",
    "    solve_recaptcha(driver)\n",
    "    \n",
    "def perform_withdraw():\n",
    "    balance = float(get_bottom_text().split('\\n')[1].split(' ')[0])\n",
    "\n",
    "    if balance > 1:\n",
    "        driver.find_element_by_css_selector('.btn:nth-child(1)').click()\n",
    "        time.sleep(.5)\n",
    "        \n",
    "        try:\n",
    "        \n",
    "            driver.find_element_by_css_selector('span:nth-child(2) .btn').click()\n",
    "        except:\n",
    "            driver.find_element_by_css_selector('.btn:nth-child(1)').click()\n",
    "            time.sleep(1)\n",
    "            driver.find_element_by_css_selector('span:nth-child(2) .btn').click()\n",
    "        \n",
    "        time.sleep(1)\n",
    "        driver.find_element_by_xpath(\"//input[@id='withdraw_amount']\").clear()\n",
    "        driver.find_element_by_xpath(\"//input[@id='withdraw_amount']\").send_keys(str(balance))\n",
    "        time.sleep(1)\n",
    "        driver.find_element_by_xpath('//span/button').click()\n",
    "        time.sleep(1)\n",
    "        driver.find_element_by_xpath(\"//input[@id='refund_address']\").send_keys(row['withdraw'])\n",
    "        time.sleep(1)\n",
    "        driver.find_element_by_xpath(\"//button[contains(.,'Confirm')]\").click()\n",
    "        time.sleep(1)"
   ]
  },
  {
   "cell_type": "code",
   "execution_count": 37,
   "id": "9bbc148f",
   "metadata": {
    "scrolled": true
   },
   "outputs": [],
   "source": [
    "state = driver.execute_script(\"return window.game_state\")"
   ]
  },
  {
   "cell_type": "code",
   "execution_count": null,
   "id": "97fd0ced",
   "metadata": {},
   "outputs": [],
   "source": []
  },
  {
   "cell_type": "code",
   "execution_count": 23,
   "id": "70c57eb8",
   "metadata": {},
   "outputs": [
    {
     "data": {
      "text/html": [
       "<div>\n",
       "<style scoped>\n",
       "    .dataframe tbody tr th:only-of-type {\n",
       "        vertical-align: middle;\n",
       "    }\n",
       "\n",
       "    .dataframe tbody tr th {\n",
       "        vertical-align: top;\n",
       "    }\n",
       "\n",
       "    .dataframe thead th {\n",
       "        text-align: right;\n",
       "    }\n",
       "</style>\n",
       "<table border=\"1\" class=\"dataframe\">\n",
       "  <thead>\n",
       "    <tr style=\"text-align: right;\">\n",
       "      <th></th>\n",
       "      <th>HP</th>\n",
       "      <th>class</th>\n",
       "      <th>killable</th>\n",
       "      <th>to_x</th>\n",
       "      <th>to_y</th>\n",
       "      <th>pos_x</th>\n",
       "      <th>pos_y</th>\n",
       "      <th>ID</th>\n",
       "    </tr>\n",
       "  </thead>\n",
       "  <tbody>\n",
       "    <tr>\n",
       "      <th>0</th>\n",
       "      <td>75.00</td>\n",
       "      <td>P</td>\n",
       "      <td>True</td>\n",
       "      <td>1047.760034</td>\n",
       "      <td>511.000000</td>\n",
       "      <td>1028.486877</td>\n",
       "      <td>685.426038</td>\n",
       "      <td>2</td>\n",
       "    </tr>\n",
       "    <tr>\n",
       "      <th>1</th>\n",
       "      <td>100.00</td>\n",
       "      <td>S</td>\n",
       "      <td>False</td>\n",
       "      <td>556.271808</td>\n",
       "      <td>82.600000</td>\n",
       "      <td>858.716968</td>\n",
       "      <td>146.632536</td>\n",
       "      <td>6</td>\n",
       "    </tr>\n",
       "    <tr>\n",
       "      <th>2</th>\n",
       "      <td>100.00</td>\n",
       "      <td>S</td>\n",
       "      <td>False</td>\n",
       "      <td>429.566211</td>\n",
       "      <td>773.266211</td>\n",
       "      <td>676.966864</td>\n",
       "      <td>694.192572</td>\n",
       "      <td>1</td>\n",
       "    </tr>\n",
       "    <tr>\n",
       "      <th>3</th>\n",
       "      <td>56.25</td>\n",
       "      <td>R</td>\n",
       "      <td>False</td>\n",
       "      <td>340.468802</td>\n",
       "      <td>-284.890195</td>\n",
       "      <td>663.534033</td>\n",
       "      <td>434.200336</td>\n",
       "      <td>3</td>\n",
       "    </tr>\n",
       "    <tr>\n",
       "      <th>4</th>\n",
       "      <td>75.00</td>\n",
       "      <td>P</td>\n",
       "      <td>True</td>\n",
       "      <td>184.800000</td>\n",
       "      <td>505.400000</td>\n",
       "      <td>404.056415</td>\n",
       "      <td>573.996710</td>\n",
       "      <td>5</td>\n",
       "    </tr>\n",
       "  </tbody>\n",
       "</table>\n",
       "</div>"
      ],
      "text/plain": [
       "       HP class  killable         to_x        to_y        pos_x       pos_y  \\\n",
       "0   75.00     P      True  1047.760034  511.000000  1028.486877  685.426038   \n",
       "1  100.00     S     False   556.271808   82.600000   858.716968  146.632536   \n",
       "2  100.00     S     False   429.566211  773.266211   676.966864  694.192572   \n",
       "3   56.25     R     False   340.468802 -284.890195   663.534033  434.200336   \n",
       "4   75.00     P      True   184.800000  505.400000   404.056415  573.996710   \n",
       "\n",
       "   ID  \n",
       "0   2  \n",
       "1   6  \n",
       "2   1  \n",
       "3   3  \n",
       "4   5  "
      ]
     },
     "execution_count": 23,
     "metadata": {},
     "output_type": "execute_result"
    }
   ],
   "source": [
    "state_df[['HP', 'class', 'killable', 'to_x', 'to_y', 'pos_x', 'pos_y', 'ID']]"
   ]
  },
  {
   "cell_type": "code",
   "execution_count": 14,
   "id": "95ae44a1",
   "metadata": {},
   "outputs": [
    {
     "data": {
      "text/plain": [
       "Index(['HP', 'class', 'clone', 'compare', 'inertia', 'isValid', 'mode_int',\n",
       "       'pid', 'place', 'pos', 'to', 'toBuffer', 'toString', 'username', 'wrap',\n",
       "       'wrapped', 'ID', 'killable', 'to_x', 'to_y', 'pos_x', 'pos_y',\n",
       "       'distance'],\n",
       "      dtype='object')"
      ]
     },
     "execution_count": 14,
     "metadata": {},
     "output_type": "execute_result"
    }
   ],
   "source": [
    "state_df.columns"
   ]
  },
  {
   "cell_type": "code",
   "execution_count": 19,
   "id": "ef5642d3",
   "metadata": {},
   "outputs": [
    {
     "data": {
      "text/plain": [
       "996.5918457031249"
      ]
     },
     "execution_count": 19,
     "metadata": {},
     "output_type": "execute_result"
    }
   ],
   "source": [
    "player['pos']['x']"
   ]
  },
  {
   "cell_type": "code",
   "execution_count": 20,
   "id": "679346fb",
   "metadata": {},
   "outputs": [
    {
     "data": {
      "text/plain": [
       "199.60755920410156"
      ]
     },
     "execution_count": 20,
     "metadata": {},
     "output_type": "execute_result"
    }
   ],
   "source": [
    "player['pos']['y']"
   ]
  },
  {
   "cell_type": "code",
   "execution_count": 21,
   "id": "8e0288df",
   "metadata": {},
   "outputs": [
    {
     "data": {
      "text/plain": [
       "-767.1999999999999"
      ]
     },
     "execution_count": 21,
     "metadata": {},
     "output_type": "execute_result"
    }
   ],
   "source": [
    "player['to']['x']"
   ]
  },
  {
   "cell_type": "code",
   "execution_count": 22,
   "id": "f0f49c92",
   "metadata": {},
   "outputs": [
    {
     "data": {
      "text/plain": [
       "630"
      ]
     },
     "execution_count": 22,
     "metadata": {},
     "output_type": "execute_result"
    }
   ],
   "source": [
    "player['to']['y']"
   ]
  },
  {
   "cell_type": "code",
   "execution_count": 24,
   "id": "4c792227",
   "metadata": {},
   "outputs": [
    {
     "data": {
      "text/html": [
       "<div>\n",
       "<style scoped>\n",
       "    .dataframe tbody tr th:only-of-type {\n",
       "        vertical-align: middle;\n",
       "    }\n",
       "\n",
       "    .dataframe tbody tr th {\n",
       "        vertical-align: top;\n",
       "    }\n",
       "\n",
       "    .dataframe thead th {\n",
       "        text-align: right;\n",
       "    }\n",
       "</style>\n",
       "<table border=\"1\" class=\"dataframe\">\n",
       "  <thead>\n",
       "    <tr style=\"text-align: right;\">\n",
       "      <th></th>\n",
       "      <th>name</th>\n",
       "      <th>x</th>\n",
       "      <th>y</th>\n",
       "      <th>t</th>\n",
       "      <th>distance</th>\n",
       "    </tr>\n",
       "  </thead>\n",
       "  <tbody>\n",
       "    <tr>\n",
       "      <th>0</th>\n",
       "      <td>3y3p</td>\n",
       "      <td>1030.4</td>\n",
       "      <td>520.8</td>\n",
       "      <td>P</td>\n",
       "      <td>322.966833</td>\n",
       "    </tr>\n",
       "    <tr>\n",
       "      <th>1</th>\n",
       "      <td>luco</td>\n",
       "      <td>571.2</td>\n",
       "      <td>78.4</td>\n",
       "      <td>S</td>\n",
       "      <td>442.322840</td>\n",
       "    </tr>\n",
       "    <tr>\n",
       "      <th>2</th>\n",
       "      <td>wl6o</td>\n",
       "      <td>595.0</td>\n",
       "      <td>513.8</td>\n",
       "      <td>S</td>\n",
       "      <td>509.894990</td>\n",
       "    </tr>\n",
       "    <tr>\n",
       "      <th>3</th>\n",
       "      <td>163s</td>\n",
       "      <td>922.6</td>\n",
       "      <td>732.2</td>\n",
       "      <td>S</td>\n",
       "      <td>537.707635</td>\n",
       "    </tr>\n",
       "    <tr>\n",
       "      <th>4</th>\n",
       "      <td>q6ql</td>\n",
       "      <td>372.4</td>\n",
       "      <td>114.8</td>\n",
       "      <td>S</td>\n",
       "      <td>629.926807</td>\n",
       "    </tr>\n",
       "    <tr>\n",
       "      <th>5</th>\n",
       "      <td>svwi</td>\n",
       "      <td>602.0</td>\n",
       "      <td>729.4</td>\n",
       "      <td>P</td>\n",
       "      <td>660.592730</td>\n",
       "    </tr>\n",
       "    <tr>\n",
       "      <th>6</th>\n",
       "      <td>v8g</td>\n",
       "      <td>338.8</td>\n",
       "      <td>611.8</td>\n",
       "      <td>S</td>\n",
       "      <td>776.268459</td>\n",
       "    </tr>\n",
       "    <tr>\n",
       "      <th>7</th>\n",
       "      <td>c91</td>\n",
       "      <td>271.6</td>\n",
       "      <td>495.6</td>\n",
       "      <td>PL</td>\n",
       "      <td>783.086650</td>\n",
       "    </tr>\n",
       "    <tr>\n",
       "      <th>8</th>\n",
       "      <td>7vei</td>\n",
       "      <td>116.2</td>\n",
       "      <td>261.8</td>\n",
       "      <td>R</td>\n",
       "      <td>882.585804</td>\n",
       "    </tr>\n",
       "  </tbody>\n",
       "</table>\n",
       "</div>"
      ],
      "text/plain": [
       "   name       x      y   t    distance\n",
       "0  3y3p  1030.4  520.8   P  322.966833\n",
       "1  luco   571.2   78.4   S  442.322840\n",
       "2  wl6o   595.0  513.8   S  509.894990\n",
       "3  163s   922.6  732.2   S  537.707635\n",
       "4  q6ql   372.4  114.8   S  629.926807\n",
       "5  svwi   602.0  729.4   P  660.592730\n",
       "6   v8g   338.8  611.8   S  776.268459\n",
       "7   c91   271.6  495.6  PL  783.086650\n",
       "8  7vei   116.2  261.8   R  882.585804"
      ]
     },
     "execution_count": 24,
     "metadata": {},
     "output_type": "execute_result"
    }
   ],
   "source": [
    "loot_df"
   ]
  },
  {
   "cell_type": "code",
   "execution_count": 17,
   "id": "0bd72bb0",
   "metadata": {},
   "outputs": [
    {
     "data": {
      "text/plain": [
       "HP                                                   100.0\n",
       "class                                                    S\n",
       "pos      {'clone': {}, 'compare': {}, 'isValid': {}, 't...\n",
       "Name: 3, dtype: object"
      ]
     },
     "execution_count": 17,
     "metadata": {},
     "output_type": "execute_result"
    }
   ],
   "source": [
    "player[['HP', 'class', 'pos']]"
   ]
  },
  {
   "cell_type": "code",
   "execution_count": 27,
   "id": "1658e844",
   "metadata": {},
   "outputs": [],
   "source": []
  },
  {
   "cell_type": "code",
   "execution_count": 29,
   "id": "425412f9",
   "metadata": {},
   "outputs": [
    {
     "data": {
      "text/plain": [
       "{'count': 0, 'next': {'r': 7, 'x': 560, 'y': 420}, 'r': 7, 'x': 560, 'y': 420}"
      ]
     },
     "execution_count": 29,
     "metadata": {},
     "output_type": "execute_result"
    }
   ],
   "source": [
    "state['gas_area']"
   ]
  },
  {
   "cell_type": "code",
   "execution_count": 30,
   "id": "a586cb3c",
   "metadata": {},
   "outputs": [
    {
     "data": {
      "text/plain": [
       "10"
      ]
     },
     "execution_count": 30,
     "metadata": {},
     "output_type": "execute_result"
    }
   ],
   "source": [
    "state['gas_closes_in']"
   ]
  },
  {
   "cell_type": "code",
   "execution_count": 31,
   "id": "fbda9945",
   "metadata": {},
   "outputs": [
    {
     "data": {
      "text/plain": [
       "0.20000000298023224"
      ]
     },
     "execution_count": 31,
     "metadata": {},
     "output_type": "execute_result"
    }
   ],
   "source": [
    "state['gas_damage']"
   ]
  },
  {
   "cell_type": "code",
   "execution_count": 32,
   "id": "ec8ee37d",
   "metadata": {},
   "outputs": [
    {
     "data": {
      "text/plain": [
       "0"
      ]
     },
     "execution_count": 32,
     "metadata": {},
     "output_type": "execute_result"
    }
   ],
   "source": [
    "state['gas_speed']"
   ]
  },
  {
   "cell_type": "code",
   "execution_count": 34,
   "id": "aac5a564",
   "metadata": {},
   "outputs": [
    {
     "data": {
      "text/plain": [
       "45"
      ]
     },
     "execution_count": 34,
     "metadata": {},
     "output_type": "execute_result"
    }
   ],
   "source": [
    "state['move_speed']"
   ]
  },
  {
   "cell_type": "code",
   "execution_count": 35,
   "id": "b523e453",
   "metadata": {},
   "outputs": [
    {
     "data": {
      "text/plain": [
       "0"
      ]
     },
     "execution_count": 35,
     "metadata": {},
     "output_type": "execute_result"
    }
   ],
   "source": [
    "state['move_cost']"
   ]
  },
  {
   "cell_type": "code",
   "execution_count": 36,
   "id": "6febfc31",
   "metadata": {},
   "outputs": [
    {
     "data": {
      "text/plain": [
       "{'crit_level': 25,\n",
       " 'cycle': {'stage': 'pre-game', 'timer': 2.8510000705718994},\n",
       " 'entry_cost': 0,\n",
       " 'gas_area': {'count': 0,\n",
       "  'next': {'r': 7, 'x': 560, 'y': 420},\n",
       "  'r': 7,\n",
       "  'x': 560,\n",
       "  'y': 420},\n",
       " 'gas_closes_in': 10,\n",
       " 'gas_damage': 0.20000000298023224,\n",
       " 'gas_speed': 0,\n",
       " 'gid': 9861842,\n",
       " 'loot': {},\n",
       " 'maximum_players': 6,\n",
       " 'minimum_players': 2,\n",
       " 'mode': 'standard_faucet',\n",
       " 'move_cost': 0,\n",
       " 'move_speed': 45,\n",
       " 'players': {'1': {'HP': 100,\n",
       "   'class': 'P',\n",
       "   'clone': {},\n",
       "   'compare': {},\n",
       "   'inertia': None,\n",
       "   'isValid': {},\n",
       "   'mode_int': 0,\n",
       "   'pid': '1',\n",
       "   'place': 0,\n",
       "   'pos': {'clone': {},\n",
       "    'compare': {},\n",
       "    'isValid': {},\n",
       "    'toBuffer': {},\n",
       "    'toString': {},\n",
       "    'wrap': {},\n",
       "    'wrapped': {},\n",
       "    'x': -140,\n",
       "    'y': -140},\n",
       "   'to': {'clone': {},\n",
       "    'compare': {},\n",
       "    'isValid': {},\n",
       "    'toBuffer': {},\n",
       "    'toString': {},\n",
       "    'wrap': {},\n",
       "    'wrapped': {},\n",
       "    'x': 0,\n",
       "    'y': 0},\n",
       "   'toBuffer': {},\n",
       "   'toString': {},\n",
       "   'username': 'V',\n",
       "   'wrap': {},\n",
       "   'wrapped': {}},\n",
       "  '2': {'HP': 100,\n",
       "   'class': 'P',\n",
       "   'clone': {},\n",
       "   'compare': {},\n",
       "   'inertia': None,\n",
       "   'isValid': {},\n",
       "   'mode_int': 0,\n",
       "   'pid': '2',\n",
       "   'place': 0,\n",
       "   'pos': {'clone': {},\n",
       "    'compare': {},\n",
       "    'isValid': {},\n",
       "    'toBuffer': {},\n",
       "    'toString': {},\n",
       "    'wrap': {},\n",
       "    'wrapped': {},\n",
       "    'x': -140,\n",
       "    'y': -140},\n",
       "   'to': {'clone': {},\n",
       "    'compare': {},\n",
       "    'isValid': {},\n",
       "    'toBuffer': {},\n",
       "    'toString': {},\n",
       "    'wrap': {},\n",
       "    'wrapped': {},\n",
       "    'x': 0,\n",
       "    'y': 0},\n",
       "   'toBuffer': {},\n",
       "   'toString': {},\n",
       "   'username': 'V',\n",
       "   'wrap': {},\n",
       "   'wrapped': {}},\n",
       "  '3': {'HP': 100,\n",
       "   'class': 'P',\n",
       "   'clone': {},\n",
       "   'compare': {},\n",
       "   'inertia': None,\n",
       "   'isValid': {},\n",
       "   'mode_int': 0,\n",
       "   'pid': '3',\n",
       "   'place': 0,\n",
       "   'pos': {'clone': {},\n",
       "    'compare': {},\n",
       "    'isValid': {},\n",
       "    'toBuffer': {},\n",
       "    'toString': {},\n",
       "    'wrap': {},\n",
       "    'wrapped': {},\n",
       "    'x': -140,\n",
       "    'y': -140},\n",
       "   'to': {'clone': {},\n",
       "    'compare': {},\n",
       "    'isValid': {},\n",
       "    'toBuffer': {},\n",
       "    'toString': {},\n",
       "    'wrap': {},\n",
       "    'wrapped': {},\n",
       "    'x': 0,\n",
       "    'y': 0},\n",
       "   'toBuffer': {},\n",
       "   'toString': {},\n",
       "   'username': 'S',\n",
       "   'wrap': {},\n",
       "   'wrapped': {}},\n",
       "  '4': {'HP': 100,\n",
       "   'class': 'S',\n",
       "   'clone': {},\n",
       "   'compare': {},\n",
       "   'inertia': None,\n",
       "   'isValid': {},\n",
       "   'mode_int': 0,\n",
       "   'pid': '4',\n",
       "   'place': 0,\n",
       "   'pos': {'clone': {},\n",
       "    'compare': {},\n",
       "    'isValid': {},\n",
       "    'toBuffer': {},\n",
       "    'toString': {},\n",
       "    'wrap': {},\n",
       "    'wrapped': {},\n",
       "    'x': -140,\n",
       "    'y': -140},\n",
       "   'to': {'clone': {},\n",
       "    'compare': {},\n",
       "    'isValid': {},\n",
       "    'toBuffer': {},\n",
       "    'toString': {},\n",
       "    'wrap': {},\n",
       "    'wrapped': {},\n",
       "    'x': 0,\n",
       "    'y': 0},\n",
       "   'toBuffer': {},\n",
       "   'toString': {},\n",
       "   'username': 'Z',\n",
       "   'wrap': {},\n",
       "   'wrapped': {}},\n",
       "  '5': {'HP': 100,\n",
       "   'class': 'S',\n",
       "   'clone': {},\n",
       "   'compare': {},\n",
       "   'inertia': None,\n",
       "   'isValid': {},\n",
       "   'mode_int': 0,\n",
       "   'pid': '5',\n",
       "   'place': 0,\n",
       "   'pos': {'clone': {},\n",
       "    'compare': {},\n",
       "    'isValid': {},\n",
       "    'toBuffer': {},\n",
       "    'toString': {},\n",
       "    'wrap': {},\n",
       "    'wrapped': {},\n",
       "    'x': -140,\n",
       "    'y': -140},\n",
       "   'to': {'clone': {},\n",
       "    'compare': {},\n",
       "    'isValid': {},\n",
       "    'toBuffer': {},\n",
       "    'toString': {},\n",
       "    'wrap': {},\n",
       "    'wrapped': {},\n",
       "    'x': 0,\n",
       "    'y': 0},\n",
       "   'toBuffer': {},\n",
       "   'toString': {},\n",
       "   'username': 'G',\n",
       "   'wrap': {},\n",
       "   'wrapped': {}},\n",
       "  '6': {'HP': 100,\n",
       "   'class': 'P',\n",
       "   'clone': {},\n",
       "   'compare': {},\n",
       "   'inertia': None,\n",
       "   'isValid': {},\n",
       "   'mode_int': 0,\n",
       "   'pid': '6',\n",
       "   'place': 0,\n",
       "   'pos': {'clone': {},\n",
       "    'compare': {},\n",
       "    'isValid': {},\n",
       "    'toBuffer': {},\n",
       "    'toString': {},\n",
       "    'wrap': {},\n",
       "    'wrapped': {},\n",
       "    'x': -140,\n",
       "    'y': -140},\n",
       "   'to': {'clone': {},\n",
       "    'compare': {},\n",
       "    'isValid': {},\n",
       "    'toBuffer': {},\n",
       "    'toString': {},\n",
       "    'wrap': {},\n",
       "    'wrapped': {},\n",
       "    'x': 0,\n",
       "    'y': 0},\n",
       "   'toBuffer': {},\n",
       "   'toString': {},\n",
       "   'username': 'MS',\n",
       "   'wrap': {},\n",
       "   'wrapped': {}}},\n",
       " 'postgame_t': 11,\n",
       " 'pregame_t': 6,\n",
       " 'rate': 0.05000000074505806,\n",
       " 'total_pot': 0.25,\n",
       " 'winner': ''}"
      ]
     },
     "execution_count": 36,
     "metadata": {},
     "output_type": "execute_result"
    }
   ],
   "source": [
    "state"
   ]
  },
  {
   "cell_type": "code",
   "execution_count": 17,
   "id": "273f59a7",
   "metadata": {},
   "outputs": [
    {
     "name": "stdout",
     "output_type": "stream",
     "text": [
      "HP Found\n",
      "Starting game\n"
     ]
    },
    {
     "name": "stderr",
     "output_type": "stream",
     "text": [
      "/var/folders/2r/ms7cbbqx6lvcfbw5hl82q7pr0000gn/T/ipykernel_10585/1328383301.py:23: DeprecationWarning: The default dtype for empty Series will be 'object' instead of 'float64' in a future version. Specify a dtype explicitly to silence this warning.\n",
      "  player = pd.Series()\n"
     ]
    },
    {
     "name": "stdout",
     "output_type": "stream",
     "text": [
      "HP Found\n",
      "Starting game\n",
      "HP Found\n",
      "Starting game\n",
      "HP Found\n",
      "Starting game\n",
      "HP Found\n",
      "Starting game\n",
      "HP Found\n",
      "Starting game\n",
      "HP Found\n",
      "Starting game\n"
     ]
    },
    {
     "ename": "KeyboardInterrupt",
     "evalue": "",
     "output_type": "error",
     "traceback": [
      "\u001b[0;31m---------------------------------------------------------------------------\u001b[0m",
      "\u001b[0;31mKeyboardInterrupt\u001b[0m                         Traceback (most recent call last)",
      "\u001b[0;32m/var/folders/2r/ms7cbbqx6lvcfbw5hl82q7pr0000gn/T/ipykernel_10585/3063030976.py\u001b[0m in \u001b[0;36m<module>\u001b[0;34m\u001b[0m\n\u001b[1;32m      1\u001b[0m \u001b[0;32mwhile\u001b[0m \u001b[0;32mTrue\u001b[0m\u001b[0;34m:\u001b[0m\u001b[0;34m\u001b[0m\u001b[0;34m\u001b[0m\u001b[0m\n\u001b[0;32m----> 2\u001b[0;31m     \u001b[0mplay_again\u001b[0m\u001b[0;34m(\u001b[0m\u001b[0;34m)\u001b[0m\u001b[0;34m\u001b[0m\u001b[0;34m\u001b[0m\u001b[0m\n\u001b[0m",
      "\u001b[0;32m/var/folders/2r/ms7cbbqx6lvcfbw5hl82q7pr0000gn/T/ipykernel_10585/1385666204.py\u001b[0m in \u001b[0;36mplay_again\u001b[0;34m()\u001b[0m\n\u001b[1;32m     67\u001b[0m \u001b[0;34m\u001b[0m\u001b[0m\n\u001b[1;32m     68\u001b[0m     \u001b[0;32mwhile\u001b[0m \u001b[0;32mTrue\u001b[0m\u001b[0;34m:\u001b[0m\u001b[0;34m\u001b[0m\u001b[0;34m\u001b[0m\u001b[0m\n\u001b[0;32m---> 69\u001b[0;31m         \u001b[0mstate_df\u001b[0m\u001b[0;34m,\u001b[0m \u001b[0mloot_df\u001b[0m\u001b[0;34m,\u001b[0m \u001b[0mplayer\u001b[0m \u001b[0;34m=\u001b[0m \u001b[0mget_players\u001b[0m\u001b[0;34m(\u001b[0m\u001b[0;34m)\u001b[0m\u001b[0;34m\u001b[0m\u001b[0;34m\u001b[0m\u001b[0m\n\u001b[0m\u001b[1;32m     70\u001b[0m \u001b[0;34m\u001b[0m\u001b[0m\n\u001b[1;32m     71\u001b[0m         \u001b[0mclick\u001b[0m \u001b[0;34m=\u001b[0m \u001b[0;32mFalse\u001b[0m\u001b[0;34m\u001b[0m\u001b[0;34m\u001b[0m\u001b[0m\n",
      "\u001b[0;32m/var/folders/2r/ms7cbbqx6lvcfbw5hl82q7pr0000gn/T/ipykernel_10585/1328383301.py\u001b[0m in \u001b[0;36mget_players\u001b[0;34m()\u001b[0m\n\u001b[1;32m     13\u001b[0m \u001b[0;32mdef\u001b[0m \u001b[0mget_players\u001b[0m\u001b[0;34m(\u001b[0m\u001b[0;34m)\u001b[0m\u001b[0;34m:\u001b[0m\u001b[0;34m\u001b[0m\u001b[0;34m\u001b[0m\u001b[0m\n\u001b[1;32m     14\u001b[0m     \u001b[0mRULES\u001b[0m \u001b[0;34m=\u001b[0m \u001b[0;34m{\u001b[0m\u001b[0;34m'P'\u001b[0m\u001b[0;34m:\u001b[0m \u001b[0;34m'R'\u001b[0m\u001b[0;34m,\u001b[0m \u001b[0;34m'R'\u001b[0m\u001b[0;34m:\u001b[0m \u001b[0;34m'S'\u001b[0m\u001b[0;34m,\u001b[0m \u001b[0;34m'S'\u001b[0m\u001b[0;34m:\u001b[0m \u001b[0;34m'P'\u001b[0m\u001b[0;34m}\u001b[0m\u001b[0;34m\u001b[0m\u001b[0;34m\u001b[0m\u001b[0m\n\u001b[0;32m---> 15\u001b[0;31m     \u001b[0muser_state\u001b[0m \u001b[0;34m=\u001b[0m \u001b[0mdriver\u001b[0m\u001b[0;34m.\u001b[0m\u001b[0mexecute_script\u001b[0m\u001b[0;34m(\u001b[0m\u001b[0;34m\"return window.user_state\"\u001b[0m\u001b[0;34m)\u001b[0m\u001b[0;34m\u001b[0m\u001b[0;34m\u001b[0m\u001b[0m\n\u001b[0m\u001b[1;32m     16\u001b[0m     \u001b[0mplayer_id\u001b[0m \u001b[0;34m=\u001b[0m \u001b[0muser_state\u001b[0m\u001b[0;34m[\u001b[0m\u001b[0;34m'cloud'\u001b[0m\u001b[0;34m]\u001b[0m\u001b[0;34m[\u001b[0m\u001b[0;34m'pid'\u001b[0m\u001b[0;34m]\u001b[0m\u001b[0;34m\u001b[0m\u001b[0;34m\u001b[0m\u001b[0m\n\u001b[1;32m     17\u001b[0m     \u001b[0mgame_state\u001b[0m \u001b[0;34m=\u001b[0m \u001b[0mdriver\u001b[0m\u001b[0;34m.\u001b[0m\u001b[0mexecute_script\u001b[0m\u001b[0;34m(\u001b[0m\u001b[0;34m\"return window.game_state\"\u001b[0m\u001b[0;34m)\u001b[0m\u001b[0;34m\u001b[0m\u001b[0;34m\u001b[0m\u001b[0m\n",
      "\u001b[0;32m/opt/homebrew/lib/python3.9/site-packages/selenium/webdriver/remote/webdriver.py\u001b[0m in \u001b[0;36mexecute_script\u001b[0;34m(self, script, *args)\u001b[0m\n\u001b[1;32m    632\u001b[0m             \u001b[0mcommand\u001b[0m \u001b[0;34m=\u001b[0m \u001b[0mCommand\u001b[0m\u001b[0;34m.\u001b[0m\u001b[0mEXECUTE_SCRIPT\u001b[0m\u001b[0;34m\u001b[0m\u001b[0;34m\u001b[0m\u001b[0m\n\u001b[1;32m    633\u001b[0m \u001b[0;34m\u001b[0m\u001b[0m\n\u001b[0;32m--> 634\u001b[0;31m         return self.execute(command, {\n\u001b[0m\u001b[1;32m    635\u001b[0m             \u001b[0;34m'script'\u001b[0m\u001b[0;34m:\u001b[0m \u001b[0mscript\u001b[0m\u001b[0;34m,\u001b[0m\u001b[0;34m\u001b[0m\u001b[0;34m\u001b[0m\u001b[0m\n\u001b[1;32m    636\u001b[0m             'args': converted_args})['value']\n",
      "\u001b[0;32m/opt/homebrew/lib/python3.9/site-packages/selenium/webdriver/remote/webdriver.py\u001b[0m in \u001b[0;36mexecute\u001b[0;34m(self, driver_command, params)\u001b[0m\n\u001b[1;32m    317\u001b[0m \u001b[0;34m\u001b[0m\u001b[0m\n\u001b[1;32m    318\u001b[0m         \u001b[0mparams\u001b[0m \u001b[0;34m=\u001b[0m \u001b[0mself\u001b[0m\u001b[0;34m.\u001b[0m\u001b[0m_wrap_value\u001b[0m\u001b[0;34m(\u001b[0m\u001b[0mparams\u001b[0m\u001b[0;34m)\u001b[0m\u001b[0;34m\u001b[0m\u001b[0;34m\u001b[0m\u001b[0m\n\u001b[0;32m--> 319\u001b[0;31m         \u001b[0mresponse\u001b[0m \u001b[0;34m=\u001b[0m \u001b[0mself\u001b[0m\u001b[0;34m.\u001b[0m\u001b[0mcommand_executor\u001b[0m\u001b[0;34m.\u001b[0m\u001b[0mexecute\u001b[0m\u001b[0;34m(\u001b[0m\u001b[0mdriver_command\u001b[0m\u001b[0;34m,\u001b[0m \u001b[0mparams\u001b[0m\u001b[0;34m)\u001b[0m\u001b[0;34m\u001b[0m\u001b[0;34m\u001b[0m\u001b[0m\n\u001b[0m\u001b[1;32m    320\u001b[0m         \u001b[0;32mif\u001b[0m \u001b[0mresponse\u001b[0m\u001b[0;34m:\u001b[0m\u001b[0;34m\u001b[0m\u001b[0;34m\u001b[0m\u001b[0m\n\u001b[1;32m    321\u001b[0m             \u001b[0mself\u001b[0m\u001b[0;34m.\u001b[0m\u001b[0merror_handler\u001b[0m\u001b[0;34m.\u001b[0m\u001b[0mcheck_response\u001b[0m\u001b[0;34m(\u001b[0m\u001b[0mresponse\u001b[0m\u001b[0;34m)\u001b[0m\u001b[0;34m\u001b[0m\u001b[0;34m\u001b[0m\u001b[0m\n",
      "\u001b[0;32m/opt/homebrew/lib/python3.9/site-packages/selenium/webdriver/remote/remote_connection.py\u001b[0m in \u001b[0;36mexecute\u001b[0;34m(self, command, params)\u001b[0m\n\u001b[1;32m    372\u001b[0m         \u001b[0mdata\u001b[0m \u001b[0;34m=\u001b[0m \u001b[0mutils\u001b[0m\u001b[0;34m.\u001b[0m\u001b[0mdump_json\u001b[0m\u001b[0;34m(\u001b[0m\u001b[0mparams\u001b[0m\u001b[0;34m)\u001b[0m\u001b[0;34m\u001b[0m\u001b[0;34m\u001b[0m\u001b[0m\n\u001b[1;32m    373\u001b[0m         \u001b[0murl\u001b[0m \u001b[0;34m=\u001b[0m \u001b[0;34m'%s%s'\u001b[0m \u001b[0;34m%\u001b[0m \u001b[0;34m(\u001b[0m\u001b[0mself\u001b[0m\u001b[0;34m.\u001b[0m\u001b[0m_url\u001b[0m\u001b[0;34m,\u001b[0m \u001b[0mpath\u001b[0m\u001b[0;34m)\u001b[0m\u001b[0;34m\u001b[0m\u001b[0;34m\u001b[0m\u001b[0m\n\u001b[0;32m--> 374\u001b[0;31m         \u001b[0;32mreturn\u001b[0m \u001b[0mself\u001b[0m\u001b[0;34m.\u001b[0m\u001b[0m_request\u001b[0m\u001b[0;34m(\u001b[0m\u001b[0mcommand_info\u001b[0m\u001b[0;34m[\u001b[0m\u001b[0;36m0\u001b[0m\u001b[0;34m]\u001b[0m\u001b[0;34m,\u001b[0m \u001b[0murl\u001b[0m\u001b[0;34m,\u001b[0m \u001b[0mbody\u001b[0m\u001b[0;34m=\u001b[0m\u001b[0mdata\u001b[0m\u001b[0;34m)\u001b[0m\u001b[0;34m\u001b[0m\u001b[0;34m\u001b[0m\u001b[0m\n\u001b[0m\u001b[1;32m    375\u001b[0m \u001b[0;34m\u001b[0m\u001b[0m\n\u001b[1;32m    376\u001b[0m     \u001b[0;32mdef\u001b[0m \u001b[0m_request\u001b[0m\u001b[0;34m(\u001b[0m\u001b[0mself\u001b[0m\u001b[0;34m,\u001b[0m \u001b[0mmethod\u001b[0m\u001b[0;34m,\u001b[0m \u001b[0murl\u001b[0m\u001b[0;34m,\u001b[0m \u001b[0mbody\u001b[0m\u001b[0;34m=\u001b[0m\u001b[0;32mNone\u001b[0m\u001b[0;34m)\u001b[0m\u001b[0;34m:\u001b[0m\u001b[0;34m\u001b[0m\u001b[0;34m\u001b[0m\u001b[0m\n",
      "\u001b[0;32m/opt/homebrew/lib/python3.9/site-packages/selenium/webdriver/remote/remote_connection.py\u001b[0m in \u001b[0;36m_request\u001b[0;34m(self, method, url, body)\u001b[0m\n\u001b[1;32m    395\u001b[0m \u001b[0;34m\u001b[0m\u001b[0m\n\u001b[1;32m    396\u001b[0m         \u001b[0;32mif\u001b[0m \u001b[0mself\u001b[0m\u001b[0;34m.\u001b[0m\u001b[0mkeep_alive\u001b[0m\u001b[0;34m:\u001b[0m\u001b[0;34m\u001b[0m\u001b[0;34m\u001b[0m\u001b[0m\n\u001b[0;32m--> 397\u001b[0;31m             \u001b[0mresp\u001b[0m \u001b[0;34m=\u001b[0m \u001b[0mself\u001b[0m\u001b[0;34m.\u001b[0m\u001b[0m_conn\u001b[0m\u001b[0;34m.\u001b[0m\u001b[0mrequest\u001b[0m\u001b[0;34m(\u001b[0m\u001b[0mmethod\u001b[0m\u001b[0;34m,\u001b[0m \u001b[0murl\u001b[0m\u001b[0;34m,\u001b[0m \u001b[0mbody\u001b[0m\u001b[0;34m=\u001b[0m\u001b[0mbody\u001b[0m\u001b[0;34m,\u001b[0m \u001b[0mheaders\u001b[0m\u001b[0;34m=\u001b[0m\u001b[0mheaders\u001b[0m\u001b[0;34m)\u001b[0m\u001b[0;34m\u001b[0m\u001b[0;34m\u001b[0m\u001b[0m\n\u001b[0m\u001b[1;32m    398\u001b[0m \u001b[0;34m\u001b[0m\u001b[0m\n\u001b[1;32m    399\u001b[0m             \u001b[0mstatuscode\u001b[0m \u001b[0;34m=\u001b[0m \u001b[0mresp\u001b[0m\u001b[0;34m.\u001b[0m\u001b[0mstatus\u001b[0m\u001b[0;34m\u001b[0m\u001b[0;34m\u001b[0m\u001b[0m\n",
      "\u001b[0;32m/opt/homebrew/lib/python3.9/site-packages/urllib3/request.py\u001b[0m in \u001b[0;36mrequest\u001b[0;34m(self, method, url, fields, headers, **urlopen_kw)\u001b[0m\n\u001b[1;32m     76\u001b[0m             )\n\u001b[1;32m     77\u001b[0m         \u001b[0;32melse\u001b[0m\u001b[0;34m:\u001b[0m\u001b[0;34m\u001b[0m\u001b[0;34m\u001b[0m\u001b[0m\n\u001b[0;32m---> 78\u001b[0;31m             return self.request_encode_body(\n\u001b[0m\u001b[1;32m     79\u001b[0m                 \u001b[0mmethod\u001b[0m\u001b[0;34m,\u001b[0m \u001b[0murl\u001b[0m\u001b[0;34m,\u001b[0m \u001b[0mfields\u001b[0m\u001b[0;34m=\u001b[0m\u001b[0mfields\u001b[0m\u001b[0;34m,\u001b[0m \u001b[0mheaders\u001b[0m\u001b[0;34m=\u001b[0m\u001b[0mheaders\u001b[0m\u001b[0;34m,\u001b[0m \u001b[0;34m**\u001b[0m\u001b[0murlopen_kw\u001b[0m\u001b[0;34m\u001b[0m\u001b[0;34m\u001b[0m\u001b[0m\n\u001b[1;32m     80\u001b[0m             )\n",
      "\u001b[0;32m/opt/homebrew/lib/python3.9/site-packages/urllib3/request.py\u001b[0m in \u001b[0;36mrequest_encode_body\u001b[0;34m(self, method, url, fields, headers, encode_multipart, multipart_boundary, **urlopen_kw)\u001b[0m\n\u001b[1;32m    168\u001b[0m         \u001b[0mextra_kw\u001b[0m\u001b[0;34m.\u001b[0m\u001b[0mupdate\u001b[0m\u001b[0;34m(\u001b[0m\u001b[0murlopen_kw\u001b[0m\u001b[0;34m)\u001b[0m\u001b[0;34m\u001b[0m\u001b[0;34m\u001b[0m\u001b[0m\n\u001b[1;32m    169\u001b[0m \u001b[0;34m\u001b[0m\u001b[0m\n\u001b[0;32m--> 170\u001b[0;31m         \u001b[0;32mreturn\u001b[0m \u001b[0mself\u001b[0m\u001b[0;34m.\u001b[0m\u001b[0murlopen\u001b[0m\u001b[0;34m(\u001b[0m\u001b[0mmethod\u001b[0m\u001b[0;34m,\u001b[0m \u001b[0murl\u001b[0m\u001b[0;34m,\u001b[0m \u001b[0;34m**\u001b[0m\u001b[0mextra_kw\u001b[0m\u001b[0;34m)\u001b[0m\u001b[0;34m\u001b[0m\u001b[0;34m\u001b[0m\u001b[0m\n\u001b[0m",
      "\u001b[0;32m/opt/homebrew/lib/python3.9/site-packages/urllib3/poolmanager.py\u001b[0m in \u001b[0;36murlopen\u001b[0;34m(self, method, url, redirect, **kw)\u001b[0m\n\u001b[1;32m    373\u001b[0m             \u001b[0mresponse\u001b[0m \u001b[0;34m=\u001b[0m \u001b[0mconn\u001b[0m\u001b[0;34m.\u001b[0m\u001b[0murlopen\u001b[0m\u001b[0;34m(\u001b[0m\u001b[0mmethod\u001b[0m\u001b[0;34m,\u001b[0m \u001b[0murl\u001b[0m\u001b[0;34m,\u001b[0m \u001b[0;34m**\u001b[0m\u001b[0mkw\u001b[0m\u001b[0;34m)\u001b[0m\u001b[0;34m\u001b[0m\u001b[0;34m\u001b[0m\u001b[0m\n\u001b[1;32m    374\u001b[0m         \u001b[0;32melse\u001b[0m\u001b[0;34m:\u001b[0m\u001b[0;34m\u001b[0m\u001b[0;34m\u001b[0m\u001b[0m\n\u001b[0;32m--> 375\u001b[0;31m             \u001b[0mresponse\u001b[0m \u001b[0;34m=\u001b[0m \u001b[0mconn\u001b[0m\u001b[0;34m.\u001b[0m\u001b[0murlopen\u001b[0m\u001b[0;34m(\u001b[0m\u001b[0mmethod\u001b[0m\u001b[0;34m,\u001b[0m \u001b[0mu\u001b[0m\u001b[0;34m.\u001b[0m\u001b[0mrequest_uri\u001b[0m\u001b[0;34m,\u001b[0m \u001b[0;34m**\u001b[0m\u001b[0mkw\u001b[0m\u001b[0;34m)\u001b[0m\u001b[0;34m\u001b[0m\u001b[0;34m\u001b[0m\u001b[0m\n\u001b[0m\u001b[1;32m    376\u001b[0m \u001b[0;34m\u001b[0m\u001b[0m\n\u001b[1;32m    377\u001b[0m         \u001b[0mredirect_location\u001b[0m \u001b[0;34m=\u001b[0m \u001b[0mredirect\u001b[0m \u001b[0;32mand\u001b[0m \u001b[0mresponse\u001b[0m\u001b[0;34m.\u001b[0m\u001b[0mget_redirect_location\u001b[0m\u001b[0;34m(\u001b[0m\u001b[0;34m)\u001b[0m\u001b[0;34m\u001b[0m\u001b[0;34m\u001b[0m\u001b[0m\n",
      "\u001b[0;32m/opt/homebrew/lib/python3.9/site-packages/urllib3/connectionpool.py\u001b[0m in \u001b[0;36murlopen\u001b[0;34m(self, method, url, body, headers, retries, redirect, assert_same_host, timeout, pool_timeout, release_conn, chunked, body_pos, **response_kw)\u001b[0m\n\u001b[1;32m    697\u001b[0m \u001b[0;34m\u001b[0m\u001b[0m\n\u001b[1;32m    698\u001b[0m             \u001b[0;31m# Make the request on the httplib connection object.\u001b[0m\u001b[0;34m\u001b[0m\u001b[0;34m\u001b[0m\u001b[0m\n\u001b[0;32m--> 699\u001b[0;31m             httplib_response = self._make_request(\n\u001b[0m\u001b[1;32m    700\u001b[0m                 \u001b[0mconn\u001b[0m\u001b[0;34m,\u001b[0m\u001b[0;34m\u001b[0m\u001b[0;34m\u001b[0m\u001b[0m\n\u001b[1;32m    701\u001b[0m                 \u001b[0mmethod\u001b[0m\u001b[0;34m,\u001b[0m\u001b[0;34m\u001b[0m\u001b[0;34m\u001b[0m\u001b[0m\n",
      "\u001b[0;32m/opt/homebrew/lib/python3.9/site-packages/urllib3/connectionpool.py\u001b[0m in \u001b[0;36m_make_request\u001b[0;34m(self, conn, method, url, timeout, chunked, **httplib_request_kw)\u001b[0m\n\u001b[1;32m    443\u001b[0m                     \u001b[0;31m# Python 3 (including for exceptions like SystemExit).\u001b[0m\u001b[0;34m\u001b[0m\u001b[0;34m\u001b[0m\u001b[0m\n\u001b[1;32m    444\u001b[0m                     \u001b[0;31m# Otherwise it looks like a bug in the code.\u001b[0m\u001b[0;34m\u001b[0m\u001b[0;34m\u001b[0m\u001b[0m\n\u001b[0;32m--> 445\u001b[0;31m                     \u001b[0msix\u001b[0m\u001b[0;34m.\u001b[0m\u001b[0mraise_from\u001b[0m\u001b[0;34m(\u001b[0m\u001b[0me\u001b[0m\u001b[0;34m,\u001b[0m \u001b[0;32mNone\u001b[0m\u001b[0;34m)\u001b[0m\u001b[0;34m\u001b[0m\u001b[0;34m\u001b[0m\u001b[0m\n\u001b[0m\u001b[1;32m    446\u001b[0m         \u001b[0;32mexcept\u001b[0m \u001b[0;34m(\u001b[0m\u001b[0mSocketTimeout\u001b[0m\u001b[0;34m,\u001b[0m \u001b[0mBaseSSLError\u001b[0m\u001b[0;34m,\u001b[0m \u001b[0mSocketError\u001b[0m\u001b[0;34m)\u001b[0m \u001b[0;32mas\u001b[0m \u001b[0me\u001b[0m\u001b[0;34m:\u001b[0m\u001b[0;34m\u001b[0m\u001b[0;34m\u001b[0m\u001b[0m\n\u001b[1;32m    447\u001b[0m             \u001b[0mself\u001b[0m\u001b[0;34m.\u001b[0m\u001b[0m_raise_timeout\u001b[0m\u001b[0;34m(\u001b[0m\u001b[0merr\u001b[0m\u001b[0;34m=\u001b[0m\u001b[0me\u001b[0m\u001b[0;34m,\u001b[0m \u001b[0murl\u001b[0m\u001b[0;34m=\u001b[0m\u001b[0murl\u001b[0m\u001b[0;34m,\u001b[0m \u001b[0mtimeout_value\u001b[0m\u001b[0;34m=\u001b[0m\u001b[0mread_timeout\u001b[0m\u001b[0;34m)\u001b[0m\u001b[0;34m\u001b[0m\u001b[0;34m\u001b[0m\u001b[0m\n",
      "\u001b[0;32m/opt/homebrew/lib/python3.9/site-packages/urllib3/packages/six.py\u001b[0m in \u001b[0;36mraise_from\u001b[0;34m(value, from_value)\u001b[0m\n",
      "\u001b[0;32m/opt/homebrew/lib/python3.9/site-packages/urllib3/connectionpool.py\u001b[0m in \u001b[0;36m_make_request\u001b[0;34m(self, conn, method, url, timeout, chunked, **httplib_request_kw)\u001b[0m\n\u001b[1;32m    438\u001b[0m                 \u001b[0;31m# Python 3\u001b[0m\u001b[0;34m\u001b[0m\u001b[0;34m\u001b[0m\u001b[0m\n\u001b[1;32m    439\u001b[0m                 \u001b[0;32mtry\u001b[0m\u001b[0;34m:\u001b[0m\u001b[0;34m\u001b[0m\u001b[0;34m\u001b[0m\u001b[0m\n\u001b[0;32m--> 440\u001b[0;31m                     \u001b[0mhttplib_response\u001b[0m \u001b[0;34m=\u001b[0m \u001b[0mconn\u001b[0m\u001b[0;34m.\u001b[0m\u001b[0mgetresponse\u001b[0m\u001b[0;34m(\u001b[0m\u001b[0;34m)\u001b[0m\u001b[0;34m\u001b[0m\u001b[0;34m\u001b[0m\u001b[0m\n\u001b[0m\u001b[1;32m    441\u001b[0m                 \u001b[0;32mexcept\u001b[0m \u001b[0mBaseException\u001b[0m \u001b[0;32mas\u001b[0m \u001b[0me\u001b[0m\u001b[0;34m:\u001b[0m\u001b[0;34m\u001b[0m\u001b[0;34m\u001b[0m\u001b[0m\n\u001b[1;32m    442\u001b[0m                     \u001b[0;31m# Remove the TypeError from the exception chain in\u001b[0m\u001b[0;34m\u001b[0m\u001b[0;34m\u001b[0m\u001b[0m\n",
      "\u001b[0;32m/opt/homebrew/Cellar/python@3.9/3.9.9/Frameworks/Python.framework/Versions/3.9/lib/python3.9/http/client.py\u001b[0m in \u001b[0;36mgetresponse\u001b[0;34m(self)\u001b[0m\n\u001b[1;32m   1375\u001b[0m         \u001b[0;32mtry\u001b[0m\u001b[0;34m:\u001b[0m\u001b[0;34m\u001b[0m\u001b[0;34m\u001b[0m\u001b[0m\n\u001b[1;32m   1376\u001b[0m             \u001b[0;32mtry\u001b[0m\u001b[0;34m:\u001b[0m\u001b[0;34m\u001b[0m\u001b[0;34m\u001b[0m\u001b[0m\n\u001b[0;32m-> 1377\u001b[0;31m                 \u001b[0mresponse\u001b[0m\u001b[0;34m.\u001b[0m\u001b[0mbegin\u001b[0m\u001b[0;34m(\u001b[0m\u001b[0;34m)\u001b[0m\u001b[0;34m\u001b[0m\u001b[0;34m\u001b[0m\u001b[0m\n\u001b[0m\u001b[1;32m   1378\u001b[0m             \u001b[0;32mexcept\u001b[0m \u001b[0mConnectionError\u001b[0m\u001b[0;34m:\u001b[0m\u001b[0;34m\u001b[0m\u001b[0;34m\u001b[0m\u001b[0m\n\u001b[1;32m   1379\u001b[0m                 \u001b[0mself\u001b[0m\u001b[0;34m.\u001b[0m\u001b[0mclose\u001b[0m\u001b[0;34m(\u001b[0m\u001b[0;34m)\u001b[0m\u001b[0;34m\u001b[0m\u001b[0;34m\u001b[0m\u001b[0m\n",
      "\u001b[0;32m/opt/homebrew/Cellar/python@3.9/3.9.9/Frameworks/Python.framework/Versions/3.9/lib/python3.9/http/client.py\u001b[0m in \u001b[0;36mbegin\u001b[0;34m(self)\u001b[0m\n\u001b[1;32m    318\u001b[0m         \u001b[0;31m# read until we get a non-100 response\u001b[0m\u001b[0;34m\u001b[0m\u001b[0;34m\u001b[0m\u001b[0m\n\u001b[1;32m    319\u001b[0m         \u001b[0;32mwhile\u001b[0m \u001b[0;32mTrue\u001b[0m\u001b[0;34m:\u001b[0m\u001b[0;34m\u001b[0m\u001b[0;34m\u001b[0m\u001b[0m\n\u001b[0;32m--> 320\u001b[0;31m             \u001b[0mversion\u001b[0m\u001b[0;34m,\u001b[0m \u001b[0mstatus\u001b[0m\u001b[0;34m,\u001b[0m \u001b[0mreason\u001b[0m \u001b[0;34m=\u001b[0m \u001b[0mself\u001b[0m\u001b[0;34m.\u001b[0m\u001b[0m_read_status\u001b[0m\u001b[0;34m(\u001b[0m\u001b[0;34m)\u001b[0m\u001b[0;34m\u001b[0m\u001b[0;34m\u001b[0m\u001b[0m\n\u001b[0m\u001b[1;32m    321\u001b[0m             \u001b[0;32mif\u001b[0m \u001b[0mstatus\u001b[0m \u001b[0;34m!=\u001b[0m \u001b[0mCONTINUE\u001b[0m\u001b[0;34m:\u001b[0m\u001b[0;34m\u001b[0m\u001b[0;34m\u001b[0m\u001b[0m\n\u001b[1;32m    322\u001b[0m                 \u001b[0;32mbreak\u001b[0m\u001b[0;34m\u001b[0m\u001b[0;34m\u001b[0m\u001b[0m\n",
      "\u001b[0;32m/opt/homebrew/Cellar/python@3.9/3.9.9/Frameworks/Python.framework/Versions/3.9/lib/python3.9/http/client.py\u001b[0m in \u001b[0;36m_read_status\u001b[0;34m(self)\u001b[0m\n\u001b[1;32m    279\u001b[0m \u001b[0;34m\u001b[0m\u001b[0m\n\u001b[1;32m    280\u001b[0m     \u001b[0;32mdef\u001b[0m \u001b[0m_read_status\u001b[0m\u001b[0;34m(\u001b[0m\u001b[0mself\u001b[0m\u001b[0;34m)\u001b[0m\u001b[0;34m:\u001b[0m\u001b[0;34m\u001b[0m\u001b[0;34m\u001b[0m\u001b[0m\n\u001b[0;32m--> 281\u001b[0;31m         \u001b[0mline\u001b[0m \u001b[0;34m=\u001b[0m \u001b[0mstr\u001b[0m\u001b[0;34m(\u001b[0m\u001b[0mself\u001b[0m\u001b[0;34m.\u001b[0m\u001b[0mfp\u001b[0m\u001b[0;34m.\u001b[0m\u001b[0mreadline\u001b[0m\u001b[0;34m(\u001b[0m\u001b[0m_MAXLINE\u001b[0m \u001b[0;34m+\u001b[0m \u001b[0;36m1\u001b[0m\u001b[0;34m)\u001b[0m\u001b[0;34m,\u001b[0m \u001b[0;34m\"iso-8859-1\"\u001b[0m\u001b[0;34m)\u001b[0m\u001b[0;34m\u001b[0m\u001b[0;34m\u001b[0m\u001b[0m\n\u001b[0m\u001b[1;32m    282\u001b[0m         \u001b[0;32mif\u001b[0m \u001b[0mlen\u001b[0m\u001b[0;34m(\u001b[0m\u001b[0mline\u001b[0m\u001b[0;34m)\u001b[0m \u001b[0;34m>\u001b[0m \u001b[0m_MAXLINE\u001b[0m\u001b[0;34m:\u001b[0m\u001b[0;34m\u001b[0m\u001b[0;34m\u001b[0m\u001b[0m\n\u001b[1;32m    283\u001b[0m             \u001b[0;32mraise\u001b[0m \u001b[0mLineTooLong\u001b[0m\u001b[0;34m(\u001b[0m\u001b[0;34m\"status line\"\u001b[0m\u001b[0;34m)\u001b[0m\u001b[0;34m\u001b[0m\u001b[0;34m\u001b[0m\u001b[0m\n",
      "\u001b[0;32m/opt/homebrew/Cellar/python@3.9/3.9.9/Frameworks/Python.framework/Versions/3.9/lib/python3.9/socket.py\u001b[0m in \u001b[0;36mreadinto\u001b[0;34m(self, b)\u001b[0m\n\u001b[1;32m    702\u001b[0m         \u001b[0;32mwhile\u001b[0m \u001b[0;32mTrue\u001b[0m\u001b[0;34m:\u001b[0m\u001b[0;34m\u001b[0m\u001b[0;34m\u001b[0m\u001b[0m\n\u001b[1;32m    703\u001b[0m             \u001b[0;32mtry\u001b[0m\u001b[0;34m:\u001b[0m\u001b[0;34m\u001b[0m\u001b[0;34m\u001b[0m\u001b[0m\n\u001b[0;32m--> 704\u001b[0;31m                 \u001b[0;32mreturn\u001b[0m \u001b[0mself\u001b[0m\u001b[0;34m.\u001b[0m\u001b[0m_sock\u001b[0m\u001b[0;34m.\u001b[0m\u001b[0mrecv_into\u001b[0m\u001b[0;34m(\u001b[0m\u001b[0mb\u001b[0m\u001b[0;34m)\u001b[0m\u001b[0;34m\u001b[0m\u001b[0;34m\u001b[0m\u001b[0m\n\u001b[0m\u001b[1;32m    705\u001b[0m             \u001b[0;32mexcept\u001b[0m \u001b[0mtimeout\u001b[0m\u001b[0;34m:\u001b[0m\u001b[0;34m\u001b[0m\u001b[0;34m\u001b[0m\u001b[0m\n\u001b[1;32m    706\u001b[0m                 \u001b[0mself\u001b[0m\u001b[0;34m.\u001b[0m\u001b[0m_timeout_occurred\u001b[0m \u001b[0;34m=\u001b[0m \u001b[0;32mTrue\u001b[0m\u001b[0;34m\u001b[0m\u001b[0;34m\u001b[0m\u001b[0m\n",
      "\u001b[0;31mKeyboardInterrupt\u001b[0m: "
     ]
    }
   ],
   "source": [
    "while True:\n",
    "    play_again()"
   ]
  },
  {
   "cell_type": "code",
   "execution_count": null,
   "id": "103a93ee",
   "metadata": {},
   "outputs": [
    {
     "name": "stdout",
     "output_type": "stream",
     "text": [
      "HP Found\n",
      "Starting game\n"
     ]
    },
    {
     "name": "stderr",
     "output_type": "stream",
     "text": [
      "/var/folders/2r/ms7cbbqx6lvcfbw5hl82q7pr0000gn/T/ipykernel_10462/445329460.py:19: DeprecationWarning: The default dtype for empty Series will be 'object' instead of 'float64' in a future version. Specify a dtype explicitly to silence this warning.\n",
      "  player = pd.Series()\n"
     ]
    }
   ],
   "source": [
    "# while True:\n",
    "#     try:\n",
    "#         with time_limit(180):\n",
    "#             play_again()\n",
    "#     except:\n",
    "#         solve_recaptcha(driver)\n",
    "#         perform_login(row)"
   ]
  },
  {
   "cell_type": "code",
   "execution_count": null,
   "id": "eb64273d",
   "metadata": {},
   "outputs": [],
   "source": []
  }
 ],
 "metadata": {
  "kernelspec": {
   "display_name": "Python 3 (ipykernel)",
   "language": "python",
   "name": "python3"
  },
  "language_info": {
   "codemirror_mode": {
    "name": "ipython",
    "version": 3
   },
   "file_extension": ".py",
   "mimetype": "text/x-python",
   "name": "python",
   "nbconvert_exporter": "python",
   "pygments_lexer": "ipython3",
   "version": "3.9.9"
  }
 },
 "nbformat": 4,
 "nbformat_minor": 5
}
