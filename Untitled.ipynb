{
 "cells": [
  {
   "cell_type": "code",
   "execution_count": 40,
   "id": "110e3b51",
   "metadata": {},
   "outputs": [],
   "source": [
    "from seleniumwire import webdriver\n",
    "from webdriver_manager.chrome import ChromeDriverManager\n",
    "from selenium.webdriver.common.keys import Keys\n",
    "import numpy as np\n",
    "import cv2\n",
    "from matplotlib import pyplot as plt\n",
    "import time\n",
    "from selenium.webdriver.common.action_chains import ActionChains"
   ]
  },
  {
   "cell_type": "code",
   "execution_count": 2,
   "id": "fe20a053",
   "metadata": {},
   "outputs": [
    {
     "name": "stderr",
     "output_type": "stream",
     "text": [
      "\n",
      "\n",
      "====== WebDriver manager ======\n",
      "Current google-chrome version is 97.0.4692\n",
      "Get LATEST chromedriver version for 97.0.4692 google-chrome\n",
      "Driver [/Users/warproxxx/.wdm/drivers/chromedriver/mac64/97.0.4692.71/chromedriver] found in cache\n"
     ]
    }
   ],
   "source": [
    "driver = webdriver.Chrome(ChromeDriverManager().install())"
   ]
  },
  {
   "cell_type": "code",
   "execution_count": 24,
   "id": "dbfc7e07",
   "metadata": {},
   "outputs": [],
   "source": [
    "driver.get('https://cryptoroyale.one/ranked')"
   ]
  },
  {
   "cell_type": "code",
   "execution_count": 4,
   "id": "dda18056",
   "metadata": {},
   "outputs": [],
   "source": [
    "def wait_and_click(elem):\n",
    "    while True:\n",
    "        try:\n",
    "            return elem.click()\n",
    "        except:\n",
    "            time.sleep(.1)"
   ]
  },
  {
   "cell_type": "code",
   "execution_count": 6,
   "id": "1d912238",
   "metadata": {},
   "outputs": [],
   "source": [
    "try:\n",
    "    wait_and_click(driver.find_element_by_partial_link_text('Connect to keep'))\n",
    "except:\n",
    "    wait_and_click(driver.find_element_by_partial_link_text('Discord'))"
   ]
  },
  {
   "cell_type": "code",
   "execution_count": 7,
   "id": "5d979e32",
   "metadata": {},
   "outputs": [],
   "source": [
    "driver.switch_to.window(driver.window_handles[1])"
   ]
  },
  {
   "cell_type": "code",
   "execution_count": 9,
   "id": "3b84d8b1",
   "metadata": {},
   "outputs": [],
   "source": [
    "elem = driver.find_element_by_name('email')\n",
    "wait_and_click(elem)\n",
    "elem.send_keys('warproxxx13@gmail.com')"
   ]
  },
  {
   "cell_type": "code",
   "execution_count": 10,
   "id": "216bda54",
   "metadata": {},
   "outputs": [],
   "source": [
    "driver.find_element_by_name('password').send_keys('m@$pU52A%J3u7C')"
   ]
  },
  {
   "cell_type": "code",
   "execution_count": 11,
   "id": "9e74a52c",
   "metadata": {},
   "outputs": [],
   "source": [
    "driver.find_element_by_name('password').send_keys(Keys.ENTER)"
   ]
  },
  {
   "cell_type": "code",
   "execution_count": 12,
   "id": "7f0a17e9",
   "metadata": {},
   "outputs": [],
   "source": [
    "time.sleep(.5)\n",
    "driver.find_element_by_xpath('//button[2]/div').click()\n",
    "time.sleep(.5)"
   ]
  },
  {
   "cell_type": "code",
   "execution_count": 13,
   "id": "e0e57c6f",
   "metadata": {},
   "outputs": [],
   "source": [
    "if 'linked' not in driver.find_element_by_tag_name('body').text:\n",
    "    print('redo')"
   ]
  },
  {
   "cell_type": "code",
   "execution_count": 14,
   "id": "a5d2ef96",
   "metadata": {},
   "outputs": [],
   "source": [
    "driver.close()"
   ]
  },
  {
   "cell_type": "code",
   "execution_count": 15,
   "id": "37dae42e",
   "metadata": {},
   "outputs": [],
   "source": [
    "driver.switch_to.window(driver.window_handles[0])"
   ]
  },
  {
   "cell_type": "code",
   "execution_count": 16,
   "id": "ccea4295",
   "metadata": {},
   "outputs": [],
   "source": [
    "driver.get('https://cryptoroyale.one/ranked')"
   ]
  },
  {
   "cell_type": "code",
   "execution_count": 20,
   "id": "d819c8ec",
   "metadata": {},
   "outputs": [],
   "source": [
    "def get_top_text():\n",
    "    return driver.find_element_by_tag_name('nav').text\n",
    "\n",
    "def get_bottom_text():\n",
    "    try:\n",
    "        return driver.find_elements_by_id('panel')[-1].text\n",
    "    except:\n",
    "        return driver.find_elements_by_id('root')[-1].text\n",
    "        \n",
    "    return bottom\n",
    "\n",
    "def get_left_text():\n",
    "    return driver.find_element_by_id('left-col').text"
   ]
  },
  {
   "cell_type": "code",
   "execution_count": 62,
   "id": "17721c5f",
   "metadata": {},
   "outputs": [
    {
     "data": {
      "text/plain": [
       "'Last player alive wins\\nOr collect 4 boxes\\nto spin your own wheel.\\nG\\nD\\nM\\n🎾\\nCollision Rules\\nwins against\\nwins against\\nwins against\\nBoxes provide health\\nAND change your color.\\n( , , )\\nControls\\nAim with mouse to move.\\nClick to Boost (-25% health)'"
      ]
     },
     "execution_count": 62,
     "metadata": {},
     "output_type": "execute_result"
    }
   ],
   "source": [
    "get_left_text()"
   ]
  },
  {
   "cell_type": "code",
   "execution_count": 22,
   "id": "22f078a4",
   "metadata": {},
   "outputs": [
    {
     "name": "stdout",
     "output_type": "stream",
     "text": [
      "spin\n"
     ]
    }
   ],
   "source": [
    "if 'Spin your boxes?' in get_left_text():\n",
    "    print('spin')"
   ]
  },
  {
   "cell_type": "code",
   "execution_count": 134,
   "id": "1caa8671",
   "metadata": {},
   "outputs": [
    {
     "data": {
      "text/plain": [
       "'AUTO NA1T:1\\nH:0L:20R:698\\nROY:$0.1331\\nGame 9225136 in progress.\\n3\\nplayers alive!\\n1st Prize: Up to 8 ROY\\n2nd: 0.04 ROY'"
      ]
     },
     "execution_count": 134,
     "metadata": {},
     "output_type": "execute_result"
    }
   ],
   "source": [
    "get_top_text()"
   ]
  },
  {
   "cell_type": "code",
   "execution_count": 135,
   "id": "913cd281",
   "metadata": {},
   "outputs": [
    {
     "data": {
      "text/plain": [
       "'Wallet:\\n0.57 ROY\\nMultiplier: 1.1x\\n\\n\\nGame in Progress.  Join the next one.Play'"
      ]
     },
     "execution_count": 135,
     "metadata": {},
     "output_type": "execute_result"
    }
   ],
   "source": [
    "get_bottom_text()"
   ]
  },
  {
   "cell_type": "code",
   "execution_count": 19,
   "id": "033de955",
   "metadata": {},
   "outputs": [
    {
     "data": {
      "text/plain": [
       "'Last player alive wins\\nSpin your boxes?\\nZ\\nN\\n♻\\n🥀\\n😀\\n⚙\\n👋\\nCollision Rules\\nwins against\\nwins against\\nwins against\\nBoxes provide health\\nAND change your color.\\n( , , )\\nControls\\nAim with mouse to move.\\nClick to Boost (-25% health)'"
      ]
     },
     "execution_count": 19,
     "metadata": {},
     "output_type": "execute_result"
    }
   ],
   "source": []
  },
  {
   "cell_type": "code",
   "execution_count": null,
   "id": "d7d26c09",
   "metadata": {},
   "outputs": [],
   "source": [
    "#game starting in"
   ]
  },
  {
   "cell_type": "code",
   "execution_count": 106,
   "id": "5912160d",
   "metadata": {},
   "outputs": [
    {
     "data": {
      "text/plain": [
       "'Game 9214770 in progress.'"
      ]
     },
     "execution_count": 106,
     "metadata": {},
     "output_type": "execute_result"
    }
   ],
   "source": [
    "top.split('\\n')[3]"
   ]
  },
  {
   "cell_type": "code",
   "execution_count": 88,
   "id": "817fd54c",
   "metadata": {},
   "outputs": [
    {
     "data": {
      "text/plain": [
       "[<selenium.webdriver.remote.webelement.WebElement (session=\"b7f8d7b1bb81f5658076816f52c01a9a\", element=\"635dd25e-3e96-4535-a40e-3848498dd710\")>]"
      ]
     },
     "execution_count": 88,
     "metadata": {},
     "output_type": "execute_result"
    }
   ],
   "source": [
    "driver.find_elements_by_id('root')"
   ]
  },
  {
   "cell_type": "code",
   "execution_count": 101,
   "id": "247a03dc",
   "metadata": {},
   "outputs": [
    {
     "data": {
      "text/plain": [
       "'Wallet:\\n0.43 ROY\\nMultiplier: 1.1x\\n\\n\\nPlay Again\\nYou came in 5th!'"
      ]
     },
     "execution_count": 101,
     "metadata": {},
     "output_type": "execute_result"
    }
   ],
   "source": [
    "bottom"
   ]
  },
  {
   "cell_type": "code",
   "execution_count": 103,
   "id": "a868e573",
   "metadata": {},
   "outputs": [
    {
     "data": {
      "text/plain": [
       "'You came in 5th!'"
      ]
     },
     "execution_count": 103,
     "metadata": {},
     "output_type": "execute_result"
    }
   ],
   "source": [
    "bottom.split('\\n')[-1]"
   ]
  },
  {
   "cell_type": "code",
   "execution_count": null,
   "id": "cb2b5464",
   "metadata": {},
   "outputs": [],
   "source": [
    "#100 HP"
   ]
  },
  {
   "cell_type": "code",
   "execution_count": 78,
   "id": "4472ee05",
   "metadata": {},
   "outputs": [],
   "source": [
    "user_state = driver.execute_script(\"return window.user_state\")"
   ]
  },
  {
   "cell_type": "code",
   "execution_count": 83,
   "id": "eac7c145",
   "metadata": {},
   "outputs": [
    {
     "data": {
      "text/plain": [
       "'707862830648655944'"
      ]
     },
     "execution_count": 83,
     "metadata": {},
     "output_type": "execute_result"
    }
   ],
   "source": [
    "user_state['cloud']['discordid']"
   ]
  },
  {
   "cell_type": "code",
   "execution_count": 84,
   "id": "e5504611",
   "metadata": {},
   "outputs": [],
   "source": [
    "player_id = user_state[\"cloud\"][\"discordid\"]"
   ]
  },
  {
   "cell_type": "code",
   "execution_count": 85,
   "id": "81d99409",
   "metadata": {},
   "outputs": [
    {
     "name": "stdout",
     "output_type": "stream",
     "text": [
      "Player ID:  707862830648655944\n"
     ]
    }
   ],
   "source": [
    "print(\"Player ID: \", player_id)"
   ]
  },
  {
   "cell_type": "code",
   "execution_count": null,
   "id": "214f1f14",
   "metadata": {},
   "outputs": [],
   "source": []
  },
  {
   "cell_type": "code",
   "execution_count": 54,
   "id": "ec809fa8",
   "metadata": {},
   "outputs": [],
   "source": [
    "# driver.find_element_by_xpath(\"//button[contains(.,'Play Again')]\").click()\n",
    "\n",
    "#need to click multiple times\n",
    "driver.find_element_by_xpath(\"//button[contains(.,'Play')]\").click()"
   ]
  },
  {
   "cell_type": "code",
   "execution_count": 63,
   "id": "8610728c",
   "metadata": {},
   "outputs": [],
   "source": [
    "def move_mouse(target_x, target_y):\n",
    "    game_board_element = driver.find_element_by_tag_name('canvas')\n",
    "    action_chains = ActionChains(driver)\n",
    "    action_chains.move_to_element_with_offset(game_board_element, target_x, target_y)\n",
    "    action_chains.click()\n",
    "    action_chains.perform()"
   ]
  },
  {
   "cell_type": "code",
   "execution_count": 73,
   "id": "2f5d6da9",
   "metadata": {},
   "outputs": [],
   "source": [
    "#left up\n",
    "move_mouse(50,50)"
   ]
  },
  {
   "cell_type": "code",
   "execution_count": 75,
   "id": "c5827c1b",
   "metadata": {},
   "outputs": [],
   "source": [
    "#left up\n",
    "move_mouse(-50,50)"
   ]
  },
  {
   "cell_type": "code",
   "execution_count": 57,
   "id": "a4af2849",
   "metadata": {},
   "outputs": [],
   "source": [
    "action.move_to_element(game_board_element);"
   ]
  },
  {
   "cell_type": "code",
   "execution_count": 58,
   "id": "6a218e4c",
   "metadata": {},
   "outputs": [
    {
     "data": {
      "text/plain": [
       "<selenium.webdriver.common.action_chains.ActionChains at 0x1173256d0>"
      ]
     },
     "execution_count": 58,
     "metadata": {},
     "output_type": "execute_result"
    }
   ],
   "source": [
    "action.move_by_offset(5,0)"
   ]
  },
  {
   "cell_type": "code",
   "execution_count": 59,
   "id": "4540c261",
   "metadata": {},
   "outputs": [
    {
     "data": {
      "text/plain": [
       "<selenium.webdriver.common.action_chains.ActionChains at 0x1173256d0>"
      ]
     },
     "execution_count": 59,
     "metadata": {},
     "output_type": "execute_result"
    }
   ],
   "source": [
    "action.move_by_offset(-5,0)"
   ]
  },
  {
   "cell_type": "code",
   "execution_count": 60,
   "id": "dda4dc42",
   "metadata": {},
   "outputs": [
    {
     "data": {
      "text/plain": [
       "<selenium.webdriver.common.action_chains.ActionChains at 0x1173256d0>"
      ]
     },
     "execution_count": 60,
     "metadata": {},
     "output_type": "execute_result"
    }
   ],
   "source": [
    "action.move_by_offset(0,5)"
   ]
  },
  {
   "cell_type": "code",
   "execution_count": 61,
   "id": "02936e9c",
   "metadata": {},
   "outputs": [
    {
     "data": {
      "text/plain": [
       "<selenium.webdriver.common.action_chains.ActionChains at 0x1173256d0>"
      ]
     },
     "execution_count": 61,
     "metadata": {},
     "output_type": "execute_result"
    }
   ],
   "source": [
    "action.move_by_offset(0,-5)"
   ]
  },
  {
   "cell_type": "code",
   "execution_count": null,
   "id": "6049b384",
   "metadata": {},
   "outputs": [],
   "source": []
  },
  {
   "cell_type": "code",
   "execution_count": 29,
   "id": "d906584e",
   "metadata": {},
   "outputs": [],
   "source": [
    "base64_png = game_board_element.screenshot_as_png"
   ]
  },
  {
   "cell_type": "code",
   "execution_count": 30,
   "id": "d6dd8089",
   "metadata": {},
   "outputs": [],
   "source": [
    "file_bytes = np.asarray(bytearray(base64_png), dtype=np.uint8)"
   ]
  },
  {
   "cell_type": "code",
   "execution_count": 31,
   "id": "1e8b8fac",
   "metadata": {},
   "outputs": [],
   "source": [
    "decoded_image = cv2.imdecode(file_bytes, cv2.IMREAD_COLOR)"
   ]
  },
  {
   "cell_type": "code",
   "execution_count": 32,
   "id": "035fd311",
   "metadata": {},
   "outputs": [
    {
     "data": {
      "text/plain": [
       "<matplotlib.image.AxesImage at 0x110116100>"
      ]
     },
     "execution_count": 32,
     "metadata": {},
     "output_type": "execute_result"
    },
    {
     "data": {
      "image/png": "[encoded data removed]",
      "text/plain": [
       "<Figure size 432x288 with 1 Axes>"
      ]
     },
     "metadata": {
      "needs_background": "light"
     },
     "output_type": "display_data"
    }
   ],
   "source": [
    "plt.imshow(decoded_image)"
   ]
  },
  {
   "cell_type": "code",
   "execution_count": null,
   "id": "c87463fc",
   "metadata": {},
   "outputs": [],
   "source": []
  }
 ],
 "metadata": {
  "kernelspec": {
   "display_name": "Python 3 (ipykernel)",
   "language": "python",
   "name": "python3"
  },
  "language_info": {
   "codemirror_mode": {
    "name": "ipython",
    "version": 3
   },
   "file_extension": ".py",
   "mimetype": "text/x-python",
   "name": "python",
   "nbconvert_exporter": "python",
   "pygments_lexer": "ipython3",
   "version": "3.9.9"
  }
 },
 "nbformat": 4,
 "nbformat_minor": 5
}
